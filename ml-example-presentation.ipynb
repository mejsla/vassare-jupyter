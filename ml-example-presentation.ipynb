{
  "nbformat": 4,
  "nbformat_minor": 0,
  "metadata": {
    "jupytext": {
      "split_at_heading": true
    },
    "kernelspec": {
      "display_name": "Python 3",
      "language": "python",
      "name": "python3"
    },
    "colab": {
      "name": "01_intro.ipynb",
      "provenance": []
    },
    "accelerator": "GPU",
    "widgets": {
      "application/vnd.jupyter.widget-state+json": {
        "56a6c96580974afdb8314a38c57d3a22": {
          "model_module": "@jupyter-widgets/controls",
          "model_name": "FileUploadModel",
          "state": {
            "_view_name": "FileUploadView",
            "_counter": 1,
            "style": "IPY_MODEL_ca015e8016754de69c4d3a6ab17cea0a",
            "_dom_classes": [],
            "description": "Upload",
            "multiple": false,
            "_model_name": "FileUploadModel",
            "data": [
              null
            ],
            "button_style": "",
            "_view_module": "@jupyter-widgets/controls",
            "_model_module_version": "1.5.0",
            "accept": "",
            "_view_count": null,
            "disabled": false,
            "_view_module_version": "1.5.0",
            "error": "",
            "description_tooltip": null,
            "metadata": [
              {
                "name": "cat.jpg",
                "type": "image/jpeg",
                "size": 41784,
                "lastModified": 1611059057684
              }
            ],
            "_model_module": "@jupyter-widgets/controls",
            "layout": "IPY_MODEL_17229edc8d634767aaefdeb8f6f7d850",
            "icon": "upload"
          }
        },
        "ca015e8016754de69c4d3a6ab17cea0a": {
          "model_module": "@jupyter-widgets/controls",
          "model_name": "ButtonStyleModel",
          "state": {
            "_view_name": "StyleView",
            "_model_name": "ButtonStyleModel",
            "_view_module": "@jupyter-widgets/base",
            "_model_module_version": "1.5.0",
            "_view_count": null,
            "button_color": null,
            "font_weight": "",
            "_view_module_version": "1.2.0",
            "_model_module": "@jupyter-widgets/controls"
          }
        },
        "17229edc8d634767aaefdeb8f6f7d850": {
          "model_module": "@jupyter-widgets/base",
          "model_name": "LayoutModel",
          "state": {
            "_view_name": "LayoutView",
            "grid_template_rows": null,
            "right": null,
            "justify_content": null,
            "_view_module": "@jupyter-widgets/base",
            "overflow": null,
            "_model_module_version": "1.2.0",
            "_view_count": null,
            "flex_flow": null,
            "width": null,
            "min_width": null,
            "border": null,
            "align_items": null,
            "bottom": null,
            "_model_module": "@jupyter-widgets/base",
            "top": null,
            "grid_column": null,
            "overflow_y": null,
            "overflow_x": null,
            "grid_auto_flow": null,
            "grid_area": null,
            "grid_template_columns": null,
            "flex": null,
            "_model_name": "LayoutModel",
            "justify_items": null,
            "grid_row": null,
            "max_height": null,
            "align_content": null,
            "visibility": null,
            "align_self": null,
            "height": null,
            "min_height": null,
            "padding": null,
            "grid_auto_rows": null,
            "grid_gap": null,
            "max_width": null,
            "order": null,
            "_view_module_version": "1.2.0",
            "grid_template_areas": null,
            "object_position": null,
            "object_fit": null,
            "grid_auto_columns": null,
            "margin": null,
            "display": null,
            "left": null
          }
        }
      }
    }
  },
  "cells": [
    {
      "cell_type": "markdown",
      "metadata": {
        "id": "dXd_dcO6JroN"
      },
      "source": [
        "# Ett Machine Learning exempel"
      ]
    },
    {
      "cell_type": "markdown",
      "metadata": {
        "id": "rIGHbrm7IQsJ"
      },
      "source": [
        "# Colab\n",
        "Eftersom vi ska jobba med Machine Learning behöver vi en GPU (eller TPU server). Här ska vi använda oss av Colab (förkortning för Colaboratory), en gratis Jupyter miljö från Google.\n",
        "\n",
        "Jag kommer skärmdela ett dokument, för att följa med:\n",
        "\n",
        "- Gå till https://colab.research.google.com\n",
        "- Välj `File` > `Open Notebook`. Välj `GitHub`-fliken. Klistra in `https://github.com/mejsla/vassare-jupyter/blob/main/ml-example.ipynb` (dela i chat).\n",
        "\n",
        "\n",
        "## Kommande studiecirkel\n",
        "Vi på Mejsla kommer att under våren anordna en studiecirkel där vi går igenom innehållet i boken [Deep Learning for Coders with fastai and PyTorch: AI Applications Without a PhD](https://course.fast.ai/).\n",
        "\n",
        "Mer information om studiecirkeln hittas på [anmälningsformuläret](https://docs.google.com/forms/d/e/1FAIpQLSdMznAsCBbhE2s-5VWFgm9pecUM_jUB4VDltKixMfzIx5TfcA/viewform), som även kommer att mailas ut till alla deltagare efter mötet.\n",
        "\n",
        "I denna Notebook visar vi ett första exempel från boken, där vi tränar en model så att den kan markera om en bild innehåller en hund eller en katt.\n",
        "\n",
        "\n"
      ]
    },
    {
      "cell_type": "markdown",
      "metadata": {
        "id": "nq99Ms9Pppy9"
      },
      "source": [
        "## Fastbook, fast.ai, PyTorch och TensorFlow\n",
        "Vi börjar med att installera det Python paket, [fastbook](https://pypi.org/project/fastbook/), som hör till boken. Det innehåller funktioner som används genom boken och gör det enkelt att komma igång med exempel.\n",
        "\n",
        "Boken använder sig av [fast.ai](https://www.fast.ai/) - något som kan ses via dess [requirements.txt](https://github.com/fastai/fastbook/blob/master/requirements.txt) fil som listar beroenden - vilket är ett ramverk för deep learning byggt ovanpå (gör det lättare att använda) [PyTorch](https://pytorch.org/), vilket är det framework som gör det tunga jobbet.\n",
        "\n",
        "PyTorch, främst utvecklat av Facebook's AI Research lab, är ett alternativ till [TensorFlow](https://www.tensorflow.org/), vilket är ett äldre och mer känt bibliotek för machine learning från Google - men underliggande begrepp och teori är överförbar mellan projekten.\n",
        "\n",
        "Som boken nämner händer mycket saker snabbt inom utveckling i allmänhet och Machine Learning i synnerhet. Vilka bibliotek och ramverk som kommer att användas kommer med stor sannolikhet ändras över tid, men underliggande förståelse för tekniker och begrepp kommer göra det lättare att anpassa sig till och använda till nya verktyg inom området.\n",
        "\n",
        "Setup-koden kommer att använda Google Drive, och kommer därför be om tillgång till denna:\n"
      ]
    },
    {
      "cell_type": "code",
      "metadata": {
        "id": "ngscN9OyVrxx"
      },
      "source": [
        "!pip install -Uqq fastbook\n",
        "from fastbook import *\n",
        "setup_book()"
      ],
      "execution_count": null,
      "outputs": []
    },
    {
      "cell_type": "markdown",
      "metadata": {
        "id": "SJY7yayFVrx5"
      },
      "source": [
        "## En första modell"
      ]
    },
    {
      "cell_type": "markdown",
      "metadata": {
        "id": "yUeNs9AhVrx7"
      },
      "source": [
        "Nedan följer en kodsnutt som trots dess korthet är ett fullständigt system för att skapa och träna en state-of-the-art modell för att känna igen katter eller hundar.\n",
        "\n",
        "Följande sker:\n",
        "\n",
        "1. En datamängd vid namn [Oxford-IIIT Pet Dataset](http://www.robots.ox.ac.uk/~vgg/data/pets/) som innehåller 7,349 bilder av katter och hundar från 37 raser kommer laddas ner från fast.ai:s samling av data till den GPU server som används. (Öppna länken till Oxford-IIIT Pet Dataset i browser och visa!)\n",
        "2. En *förtränad modell* (pretrained model) som redan har tränats på 1.3 miljoner bilder och konstaterats prestera väl, kommer att laddas ner. Namnet på modellen är `resnet34`.\n",
        "3. Den förtränade modellen kommer att anpassas (*fine-tuned*) användandes *transfer learning* för att skapa en modell som är specifikt anpassad för att känna igenom katter och hundar."
      ]
    },
    {
      "cell_type": "code",
      "metadata": {
        "id": "EfH1Pj_sVrx7"
      },
      "source": [
        "from fastai.vision.all import *\n",
        "\n",
        "path = untar_data(URLs.PETS)/'images'\n",
        "\n",
        "def is_cat(x):\n",
        "  return x[0].isupper()\n",
        "\n",
        "dls = ImageDataLoaders.from_name_func(\n",
        "    path, get_image_files(path), valid_pct=0.2, seed=42,\n",
        "    label_func=is_cat, item_tfms=Resize(224))\n",
        "\n",
        "learn = cnn_learner(dls, resnet34, metrics=error_rate)\n",
        "learn.fine_tune(1)"
      ],
      "execution_count": null,
      "outputs": []
    },
    {
      "cell_type": "markdown",
      "metadata": {
        "id": "zaxGU06nVrx7"
      },
      "source": [
        "> OBS: Det kommer ta några minuter att ladda ner och anpassa modellen. Kör den i förväg!"
      ]
    },
    {
      "cell_type": "markdown",
      "metadata": {
        "id": "oWTqj_TGVrx8"
      },
      "source": [
        "# Bedöma modells effektivitet och testa det manuellt\n",
        "\n",
        "Hur ska vi bedöma hur bra modellen presterar?\n",
        "\n",
        "Sista kolumnen i tabellen visar error rate, den andel av bilderna som klassificerades inkorrekt.\n",
        "\n",
        "Som ses av siffran är modellen effektiv trots snabb tid för anpassning, och faktiskt bättre än vad någon skulle kunna prestera för säg 10 år sen.\n",
        "\n",
        "För att manuellt bekräfta att det fungerar, låt oss ladda upp en bild (använda google sökning efter hund eller katt bilder):"
      ]
    },
    {
      "cell_type": "code",
      "metadata": {
        "id": "19IqhLWkVrx8",
        "colab": {
          "base_uri": "https://localhost:8080/",
          "height": 49,
          "referenced_widgets": [
            "56a6c96580974afdb8314a38c57d3a22",
            "ca015e8016754de69c4d3a6ab17cea0a",
            "17229edc8d634767aaefdeb8f6f7d850"
          ]
        },
        "outputId": "ce3ff800-cd3e-483b-ed94-a1807880ed86"
      },
      "source": [
        "uploader = widgets.FileUpload()\n",
        "uploader"
      ],
      "execution_count": null,
      "outputs": [
        {
          "output_type": "display_data",
          "data": {
            "application/vnd.jupyter.widget-view+json": {
              "model_id": "56a6c96580974afdb8314a38c57d3a22",
              "version_minor": 0,
              "version_major": 2
            },
            "text/plain": [
              "FileUpload(value={}, description='Upload')"
            ]
          },
          "metadata": {
            "tags": []
          }
        }
      ]
    },
    {
      "cell_type": "markdown",
      "metadata": {
        "id": "z-X7WHyWVrx9"
      },
      "source": [
        "Efter att ha laddat upp en bild med Upload-knappen ovan kan vi använda modellen för att klassificera bilden:"
      ]
    },
    {
      "cell_type": "code",
      "metadata": {
        "id": "CNZRvPW_Vrx9",
        "colab": {
          "base_uri": "https://localhost:8080/",
          "height": 51
        },
        "outputId": "423c3a2b-7616-4693-800d-135ec5e42352"
      },
      "source": [
        "img = PILImage.create(uploader.data[0])\n",
        "is_cat,_,probs = learn.predict(img)\n",
        "print(f\"Is this a cat?: {is_cat}.\")\n",
        "print(f\"Probability it's a cat: {probs[1].item():.6f}\")"
      ],
      "execution_count": null,
      "outputs": [
        {
          "output_type": "display_data",
          "data": {
            "text/html": [
              ""
            ],
            "text/plain": [
              "<IPython.core.display.HTML object>"
            ]
          },
          "metadata": {
            "tags": []
          }
        },
        {
          "output_type": "stream",
          "text": [
            "Is this a cat?: True.\n",
            "Probability it's a cat: 1.000000\n"
          ],
          "name": "stdout"
        }
      ]
    },
    {
      "cell_type": "markdown",
      "metadata": {
        "id": "yNmNCvBUVrx9"
      },
      "source": [
        "För att förklara vad vi gjort ska vi backa ut ett steg."
      ]
    },
    {
      "cell_type": "markdown",
      "metadata": {
        "id": "Sk_DgvvJVrx9"
      },
      "source": [
        "## Vad är Machine Learning?"
      ]
    },
    {
      "cell_type": "markdown",
      "metadata": {
        "id": "K8XK5HYyVrx9"
      },
      "source": [
        "\n",
        "*Machine learning* är, likt vanlig programmering, ett sätt att få datorer at utföra ett önskat jobb. Med vanlig programmering menar vi modellen där vi exakt beskriver de steg ett program ska ta för att givet input producera ett visst output:\n"
      ]
    },
    {
      "cell_type": "code",
      "metadata": {
        "hide_input": false,
        "id": "8nRl1zFPVrx9",
        "colab": {
          "base_uri": "https://localhost:8080/",
          "height": 98
        },
        "outputId": "c02db052-db56-495a-c3a2-c2ab668efa83"
      },
      "source": [
        "gv('''program[shape=box3d width=1 height=0.7] inputs->program->results''')"
      ],
      "execution_count": null,
      "outputs": [
        {
          "output_type": "execute_result",
          "data": {
            "text/plain": [
              "<graphviz.files.Source at 0x7f26abef58d0>"
            ],
            "image/svg+xml": "<?xml version=\"1.0\" encoding=\"UTF-8\" standalone=\"no\"?>\n<!DOCTYPE svg PUBLIC \"-//W3C//DTD SVG 1.1//EN\"\n \"http://www.w3.org/Graphics/SVG/1.1/DTD/svg11.dtd\">\n<!-- Generated by graphviz version 2.40.1 (20161225.0304)\n -->\n<!-- Title: G Pages: 1 -->\n<svg width=\"288pt\" height=\"58pt\"\n viewBox=\"0.00 0.00 288.49 58.00\" xmlns=\"http://www.w3.org/2000/svg\" xmlns:xlink=\"http://www.w3.org/1999/xlink\">\n<g id=\"graph0\" class=\"graph\" transform=\"scale(1 1) rotate(0) translate(4 54)\">\n<title>G</title>\n<polygon fill=\"#ffffff\" stroke=\"transparent\" points=\"-4,4 -4,-54 284.4879,-54 284.4879,4 -4,4\"/>\n<!-- program -->\n<g id=\"node1\" class=\"node\">\n<title>program</title>\n<polygon fill=\"none\" stroke=\"#000000\" points=\"175.594,-50 107.594,-50 103.594,-46 103.594,0 171.594,0 175.594,-4 175.594,-50\"/>\n<polyline fill=\"none\" stroke=\"#000000\" points=\"171.594,-46 103.594,-46 \"/>\n<polyline fill=\"none\" stroke=\"#000000\" points=\"171.594,-46 171.594,0 \"/>\n<polyline fill=\"none\" stroke=\"#000000\" points=\"171.594,-46 175.594,-50 \"/>\n<text text-anchor=\"middle\" x=\"139.594\" y=\"-21.3\" font-family=\"Times,serif\" font-size=\"14.00\" fill=\"#000000\">program</text>\n</g>\n<!-- results -->\n<g id=\"node3\" class=\"node\">\n<title>results</title>\n<ellipse fill=\"none\" stroke=\"#000000\" cx=\"246.0409\" cy=\"-25\" rx=\"34.394\" ry=\"18\"/>\n<text text-anchor=\"middle\" x=\"246.0409\" y=\"-21.3\" font-family=\"Times,serif\" font-size=\"14.00\" fill=\"#000000\">results</text>\n</g>\n<!-- program&#45;&gt;results -->\n<g id=\"edge2\" class=\"edge\">\n<title>program&#45;&gt;results</title>\n<path fill=\"none\" stroke=\"#000000\" d=\"M175.6321,-25C183.865,-25 192.7125,-25 201.2618,-25\"/>\n<polygon fill=\"#000000\" stroke=\"#000000\" points=\"201.4807,-28.5001 211.4807,-25 201.4806,-21.5001 201.4807,-28.5001\"/>\n</g>\n<!-- inputs -->\n<g id=\"node2\" class=\"node\">\n<title>inputs</title>\n<ellipse fill=\"none\" stroke=\"#000000\" cx=\"33.797\" cy=\"-25\" rx=\"33.5952\" ry=\"18\"/>\n<text text-anchor=\"middle\" x=\"33.797\" y=\"-21.3\" font-family=\"Times,serif\" font-size=\"14.00\" fill=\"#000000\">inputs</text>\n</g>\n<!-- inputs&#45;&gt;program -->\n<g id=\"edge1\" class=\"edge\">\n<title>inputs&#45;&gt;program</title>\n<path fill=\"none\" stroke=\"#000000\" d=\"M67.8542,-25C75.9278,-25 84.675,-25 93.1939,-25\"/>\n<polygon fill=\"#000000\" stroke=\"#000000\" points=\"93.4113,-28.5001 103.4113,-25 93.4112,-21.5001 93.4113,-28.5001\"/>\n</g>\n</g>\n</svg>\n"
          },
          "metadata": {
            "tags": []
          },
          "execution_count": 13
        }
      ]
    },
    {
      "cell_type": "markdown",
      "metadata": {
        "id": "g4EX5ItbVrx-"
      },
      "source": [
        "Men för att känna igen objekt i en bild är det svårt - vad är egentligen stegen våra hjärnor tar för att känna igen om en bild representerar en hund eller en katt? Hur skulle man översätta det till kod? Svaret är att det är svårt - det händer i våra hjärnor utan att vi är medvetna om exakta stegen.\n",
        "\n",
        "På 40-talet börjades det formuleras ett annat sätt för datorer att utföra uppgifter som kallades *machine learning*. I en klassisk skrift från 1962,  \"Artificial Intelligence: A Frontier of Automation\", skrevs det (fritt översatt):"
      ]
    },
    {
      "cell_type": "markdown",
      "metadata": {
        "id": "LZz-iSI8Vrx-"
      },
      "source": [
        "> Att programmera en dator för en sådan uppgift är en svår (om inte omöjlig) uppgift. Inte nödvändigtvis för att en inneboende komplexitet i problemet, utan för nödvändigheten att i detalj skriva ner varje steg. Datorer, som de flesta programmerare ser det, är enorma idioter, inte enorma hjärnor.\n"
      ]
    },
    {
      "cell_type": "markdown",
      "metadata": {
        "id": "2aAkmjJIVrx-"
      },
      "source": [
        "Den grundläggande idén var att istället för att i detalj beskriva hur problemet ska lösas, så visar vi programmet exempel på problem att lösa, och låter det sedan självt koma på lösningar.\n",
        "\n",
        "Det här visade sig snabbt lovande i initiala experiment - ett program för damspel, checkers, blev statsmästaste i Connecticut 1961."
      ]
    },
    {
      "cell_type": "markdown",
      "metadata": {
        "id": "M6mVcts7Vrx-"
      },
      "source": [
        "För att sammanfatta begrepp som användes:\n",
        "\n",
        "- Vikter (`weights`) är variabler som ges till modellen. Tillsammans med input-datat definierar de vilken output en viss modell ger.\n",
        "\n",
        "De kan ses som en form av input:"
      ]
    },
    {
      "cell_type": "code",
      "metadata": {
        "hide_input": true,
        "id": "zGPJqLonVrx-",
        "colab": {
          "base_uri": "https://localhost:8080/",
          "height": 152
        },
        "outputId": "661229a1-bea6-4f38-d892-2144e8204611"
      },
      "source": [
        "gv('''model[shape=box3d width=1 height=0.7] inputs->model->results; weights->model''')"
      ],
      "execution_count": null,
      "outputs": [
        {
          "output_type": "execute_result",
          "data": {
            "text/plain": [
              "<graphviz.files.Source at 0x7f26abdcc7f0>"
            ],
            "image/svg+xml": "<?xml version=\"1.0\" encoding=\"UTF-8\" standalone=\"no\"?>\n<!DOCTYPE svg PUBLIC \"-//W3C//DTD SVG 1.1//EN\"\n \"http://www.w3.org/Graphics/SVG/1.1/DTD/svg11.dtd\">\n<!-- Generated by graphviz version 2.40.1 (20161225.0304)\n -->\n<!-- Title: G Pages: 1 -->\n<svg width=\"300pt\" height=\"98pt\"\n viewBox=\"0.00 0.00 300.19 98.00\" xmlns=\"http://www.w3.org/2000/svg\" xmlns:xlink=\"http://www.w3.org/1999/xlink\">\n<g id=\"graph0\" class=\"graph\" transform=\"scale(1 1) rotate(0) translate(4 94)\">\n<title>G</title>\n<polygon fill=\"#ffffff\" stroke=\"transparent\" points=\"-4,4 -4,-94 296.1869,-94 296.1869,4 -4,4\"/>\n<!-- model -->\n<g id=\"node1\" class=\"node\">\n<title>model</title>\n<polygon fill=\"none\" stroke=\"#000000\" points=\"187.293,-70 119.293,-70 115.293,-66 115.293,-20 183.293,-20 187.293,-24 187.293,-70\"/>\n<polyline fill=\"none\" stroke=\"#000000\" points=\"183.293,-66 115.293,-66 \"/>\n<polyline fill=\"none\" stroke=\"#000000\" points=\"183.293,-66 183.293,-20 \"/>\n<polyline fill=\"none\" stroke=\"#000000\" points=\"183.293,-66 187.293,-70 \"/>\n<text text-anchor=\"middle\" x=\"151.293\" y=\"-41.3\" font-family=\"Times,serif\" font-size=\"14.00\" fill=\"#000000\">model</text>\n</g>\n<!-- results -->\n<g id=\"node3\" class=\"node\">\n<title>results</title>\n<ellipse fill=\"none\" stroke=\"#000000\" cx=\"257.7399\" cy=\"-45\" rx=\"34.394\" ry=\"18\"/>\n<text text-anchor=\"middle\" x=\"257.7399\" y=\"-41.3\" font-family=\"Times,serif\" font-size=\"14.00\" fill=\"#000000\">results</text>\n</g>\n<!-- model&#45;&gt;results -->\n<g id=\"edge2\" class=\"edge\">\n<title>model&#45;&gt;results</title>\n<path fill=\"none\" stroke=\"#000000\" d=\"M187.331,-45C195.564,-45 204.4115,-45 212.9607,-45\"/>\n<polygon fill=\"#000000\" stroke=\"#000000\" points=\"213.1797,-48.5001 223.1796,-45 213.1796,-41.5001 213.1797,-48.5001\"/>\n</g>\n<!-- inputs -->\n<g id=\"node2\" class=\"node\">\n<title>inputs</title>\n<ellipse fill=\"none\" stroke=\"#000000\" cx=\"39.6465\" cy=\"-72\" rx=\"33.5952\" ry=\"18\"/>\n<text text-anchor=\"middle\" x=\"39.6465\" y=\"-68.3\" font-family=\"Times,serif\" font-size=\"14.00\" fill=\"#000000\">inputs</text>\n</g>\n<!-- inputs&#45;&gt;model -->\n<g id=\"edge1\" class=\"edge\">\n<title>inputs&#45;&gt;model</title>\n<path fill=\"none\" stroke=\"#000000\" d=\"M70.4499,-64.5507C81.133,-61.9671 93.3575,-59.0108 105.0104,-56.1927\"/>\n<polygon fill=\"#000000\" stroke=\"#000000\" points=\"106.1535,-59.5173 115.0506,-53.7647 104.508,-52.7134 106.1535,-59.5173\"/>\n</g>\n<!-- weights -->\n<g id=\"node4\" class=\"node\">\n<title>weights</title>\n<ellipse fill=\"none\" stroke=\"#000000\" cx=\"39.6465\" cy=\"-18\" rx=\"39.7935\" ry=\"18\"/>\n<text text-anchor=\"middle\" x=\"39.6465\" y=\"-14.3\" font-family=\"Times,serif\" font-size=\"14.00\" fill=\"#000000\">weights</text>\n</g>\n<!-- weights&#45;&gt;model -->\n<g id=\"edge3\" class=\"edge\">\n<title>weights&#45;&gt;model</title>\n<path fill=\"none\" stroke=\"#000000\" d=\"M74.6658,-26.4689C84.3542,-28.8119 95.0182,-31.3908 105.2321,-33.8609\"/>\n<polygon fill=\"#000000\" stroke=\"#000000\" points=\"104.7007,-37.3332 115.2433,-36.2819 106.3462,-30.5293 104.7007,-37.3332\"/>\n</g>\n</g>\n</svg>\n"
          },
          "metadata": {
            "tags": []
          },
          "execution_count": 23
        }
      ]
    },
    {
      "cell_type": "markdown",
      "metadata": {
        "id": "pVw9yGAIVrx-"
      },
      "source": [
        "Vi har här också ändrat namnet från *program* till *model*, vilket är modernare namngivning och visar att det rör sig om en speciell typ av program skiljt från traditionella datorprogram.\n",
        "\n",
        "En *model* är ett specill typ av program som kan göra *olika saker* beroende på de *weights* som anges.\n",
        "\n",
        "- I dam-spelet kan olika vikter vara olika strategier.\n",
        "- I våran hund&katt igenkännare är vikter det som erhållts från vår anpassning av en generell bild-klassifierare till att just känna igen katter och hundar.\n",
        "\n",
        "För att en model ska kunna lära sig behövs dessutom ett *automatiskt sätt att testa effektiviteten hos en viss uppsättning vikter*.\n",
        "\n",
        "- I fallet med damspelet är effektiviteten hur väl modellen spelade, och ett automatiskt sätt att testa detta skulle kunna vara att låta två modeller spela med varandra.\n",
        "- I våran hund&katt igenkännare så använda vi oss av ett *facit* - någon har redan tagit sig tid att manuellt markera vilka bilder som avbildade katter och vilka som avbildade hundar, och markerat detta genom att låta filnamnet börja med stor bokstav eller inte.\n",
        "\n",
        "Slutligen så behövs en *mekanism för att uppdatera vikterna för att maximera effektiviteten*. Detaljerna här är icke triviala, men vi skulle kunna tänka oss att vi tittar på skillnader mellan en vinnande modell och en som förlorar, och ändra vikterna en bit åt det håll som vinnande modellen är i.\n",
        "\n",
        "\n",
        "Nedan visas en fullständig modell av det vi gått igenom:"
      ]
    },
    {
      "cell_type": "code",
      "metadata": {
        "hide_input": true,
        "id": "5-ps9eutVrx_",
        "colab": {
          "base_uri": "https://localhost:8080/",
          "height": 152
        },
        "outputId": "9cb1c115-1cc8-49b5-8eeb-1dc7dc438eb0"
      },
      "source": [
        "gv('''ordering=in model[shape=box3d width=1 height=0.7] inputs->model->results; weights->model; results->performance performance->weights[constraint=false label=update]''')"
      ],
      "execution_count": null,
      "outputs": [
        {
          "output_type": "execute_result",
          "data": {
            "text/plain": [
              "<graphviz.files.Source at 0x7f26abdcc0f0>"
            ],
            "image/svg+xml": "<?xml version=\"1.0\" encoding=\"UTF-8\" standalone=\"no\"?>\n<!DOCTYPE svg PUBLIC \"-//W3C//DTD SVG 1.1//EN\"\n \"http://www.w3.org/Graphics/SVG/1.1/DTD/svg11.dtd\">\n<!-- Generated by graphviz version 2.40.1 (20161225.0304)\n -->\n<!-- Title: G Pages: 1 -->\n<svg width=\"492pt\" height=\"98pt\"\n viewBox=\"0.00 0.00 491.58 98.00\" xmlns=\"http://www.w3.org/2000/svg\" xmlns:xlink=\"http://www.w3.org/1999/xlink\">\n<g id=\"graph0\" class=\"graph\" transform=\"scale(1 1) rotate(0) translate(4 94)\">\n<title>G</title>\n<polygon fill=\"#ffffff\" stroke=\"transparent\" points=\"-4,4 -4,-94 487.5767,-94 487.5767,4 -4,4\"/>\n<!-- model -->\n<g id=\"node1\" class=\"node\">\n<title>model</title>\n<polygon fill=\"none\" stroke=\"#000000\" points=\"188.293,-77 120.293,-77 116.293,-73 116.293,-27 184.293,-27 188.293,-31 188.293,-77\"/>\n<polyline fill=\"none\" stroke=\"#000000\" points=\"184.293,-73 116.293,-73 \"/>\n<polyline fill=\"none\" stroke=\"#000000\" points=\"184.293,-73 184.293,-27 \"/>\n<polyline fill=\"none\" stroke=\"#000000\" points=\"184.293,-73 188.293,-77 \"/>\n<text text-anchor=\"middle\" x=\"152.293\" y=\"-48.3\" font-family=\"Times,serif\" font-size=\"14.00\" fill=\"#000000\">model</text>\n</g>\n<!-- results -->\n<g id=\"node3\" class=\"node\">\n<title>results</title>\n<ellipse fill=\"none\" stroke=\"#000000\" cx=\"297.7399\" cy=\"-52\" rx=\"34.394\" ry=\"18\"/>\n<text text-anchor=\"middle\" x=\"297.7399\" y=\"-48.3\" font-family=\"Times,serif\" font-size=\"14.00\" fill=\"#000000\">results</text>\n</g>\n<!-- model&#45;&gt;results -->\n<g id=\"edge2\" class=\"edge\">\n<title>model&#45;&gt;results</title>\n<path fill=\"none\" stroke=\"#000000\" d=\"M188.6202,-52C208.0549,-52 232.162,-52 252.7707,-52\"/>\n<polygon fill=\"#000000\" stroke=\"#000000\" points=\"252.8772,-55.5001 262.8772,-52 252.8771,-48.5001 252.8772,-55.5001\"/>\n</g>\n<!-- inputs -->\n<g id=\"node2\" class=\"node\">\n<title>inputs</title>\n<ellipse fill=\"none\" stroke=\"#000000\" cx=\"39.6465\" cy=\"-72\" rx=\"33.5952\" ry=\"18\"/>\n<text text-anchor=\"middle\" x=\"39.6465\" y=\"-68.3\" font-family=\"Times,serif\" font-size=\"14.00\" fill=\"#000000\">inputs</text>\n</g>\n<!-- inputs&#45;&gt;model -->\n<g id=\"edge1\" class=\"edge\">\n<title>inputs&#45;&gt;model</title>\n<path fill=\"none\" stroke=\"#000000\" d=\"M71.9264,-66.2688C82.5866,-64.3761 94.6614,-62.2323 106.1514,-60.1923\"/>\n<polygon fill=\"#000000\" stroke=\"#000000\" points=\"106.8137,-63.6295 116.0478,-58.4352 105.5899,-56.7373 106.8137,-63.6295\"/>\n</g>\n<!-- performance -->\n<g id=\"node5\" class=\"node\">\n<title>performance</title>\n<ellipse fill=\"none\" stroke=\"#000000\" cx=\"426.3818\" cy=\"-52\" rx=\"57.3905\" ry=\"18\"/>\n<text text-anchor=\"middle\" x=\"426.3818\" y=\"-48.3\" font-family=\"Times,serif\" font-size=\"14.00\" fill=\"#000000\">performance</text>\n</g>\n<!-- results&#45;&gt;performance -->\n<g id=\"edge4\" class=\"edge\">\n<title>results&#45;&gt;performance</title>\n<path fill=\"none\" stroke=\"#000000\" d=\"M332.2136,-52C340.5212,-52 349.6824,-52 358.93,-52\"/>\n<polygon fill=\"#000000\" stroke=\"#000000\" points=\"358.9624,-55.5001 368.9624,-52 358.9624,-48.5001 358.9624,-55.5001\"/>\n</g>\n<!-- weights -->\n<g id=\"node4\" class=\"node\">\n<title>weights</title>\n<ellipse fill=\"none\" stroke=\"#000000\" cx=\"39.6465\" cy=\"-18\" rx=\"39.7935\" ry=\"18\"/>\n<text text-anchor=\"middle\" x=\"39.6465\" y=\"-14.3\" font-family=\"Times,serif\" font-size=\"14.00\" fill=\"#000000\">weights</text>\n</g>\n<!-- weights&#45;&gt;model -->\n<g id=\"edge3\" class=\"edge\">\n<title>weights&#45;&gt;model</title>\n<path fill=\"none\" stroke=\"#000000\" d=\"M72.8349,-28.0172C83.3758,-31.1988 95.2252,-34.7753 106.4921,-38.1759\"/>\n<polygon fill=\"#000000\" stroke=\"#000000\" points=\"105.611,-41.5659 116.1958,-41.1048 107.6337,-34.8645 105.611,-41.5659\"/>\n</g>\n<!-- performance&#45;&gt;weights -->\n<g id=\"edge5\" class=\"edge\">\n<title>performance&#45;&gt;weights</title>\n<path fill=\"none\" stroke=\"#000000\" d=\"M387.4301,-38.6502C370.6367,-33.4674 350.6491,-28.053 332.1869,-25 247.7864,-11.0431 147.8468,-12.4185 89.3275,-14.9945\"/>\n<polygon fill=\"#000000\" stroke=\"#000000\" points=\"89.0716,-11.5026 79.247,-15.4684 89.4004,-18.4948 89.0716,-11.5026\"/>\n<text text-anchor=\"middle\" x=\"225.793\" y=\"-19.8\" font-family=\"Times,serif\" font-size=\"14.00\" fill=\"#000000\">update</text>\n</g>\n</g>\n</svg>\n"
          },
          "metadata": {
            "tags": []
          },
          "execution_count": 22
        }
      ]
    },
    {
      "cell_type": "markdown",
      "metadata": {
        "id": "PJomJ4znVrx_"
      },
      "source": [
        "Lägg märke till skillnaden mellan modellens *resultat* (t.ex. de drag som sker i Dam-spelet) och dess *effektivitet* (t.ex. om det vinner ett spel, och isf hur snabbt).\n",
        "\n",
        "När modellen väl har blivit tränad - dvs, när vi har bestämt oss för slutliga vikter, så kan vi se vikterna som del av modellen, och användandet av den därefter blir som visas nedan:"
      ]
    },
    {
      "cell_type": "code",
      "metadata": {
        "hide_input": true,
        "id": "VReVEn0PVrx_",
        "colab": {
          "base_uri": "https://localhost:8080/",
          "height": 98
        },
        "outputId": "6e5034e5-b266-4862-b7b3-fe5ac22bda12"
      },
      "source": [
        "gv('''model[shape=box3d width=1 height=0.7] inputs->model->results''')"
      ],
      "execution_count": null,
      "outputs": [
        {
          "output_type": "execute_result",
          "data": {
            "text/plain": [
              "<graphviz.files.Source at 0x7f26abdcc278>"
            ],
            "image/svg+xml": "<?xml version=\"1.0\" encoding=\"UTF-8\" standalone=\"no\"?>\n<!DOCTYPE svg PUBLIC \"-//W3C//DTD SVG 1.1//EN\"\n \"http://www.w3.org/Graphics/SVG/1.1/DTD/svg11.dtd\">\n<!-- Generated by graphviz version 2.40.1 (20161225.0304)\n -->\n<!-- Title: G Pages: 1 -->\n<svg width=\"288pt\" height=\"58pt\"\n viewBox=\"0.00 0.00 288.49 58.00\" xmlns=\"http://www.w3.org/2000/svg\" xmlns:xlink=\"http://www.w3.org/1999/xlink\">\n<g id=\"graph0\" class=\"graph\" transform=\"scale(1 1) rotate(0) translate(4 54)\">\n<title>G</title>\n<polygon fill=\"#ffffff\" stroke=\"transparent\" points=\"-4,4 -4,-54 284.4879,-54 284.4879,4 -4,4\"/>\n<!-- model -->\n<g id=\"node1\" class=\"node\">\n<title>model</title>\n<polygon fill=\"none\" stroke=\"#000000\" points=\"175.594,-50 107.594,-50 103.594,-46 103.594,0 171.594,0 175.594,-4 175.594,-50\"/>\n<polyline fill=\"none\" stroke=\"#000000\" points=\"171.594,-46 103.594,-46 \"/>\n<polyline fill=\"none\" stroke=\"#000000\" points=\"171.594,-46 171.594,0 \"/>\n<polyline fill=\"none\" stroke=\"#000000\" points=\"171.594,-46 175.594,-50 \"/>\n<text text-anchor=\"middle\" x=\"139.594\" y=\"-21.3\" font-family=\"Times,serif\" font-size=\"14.00\" fill=\"#000000\">model</text>\n</g>\n<!-- results -->\n<g id=\"node3\" class=\"node\">\n<title>results</title>\n<ellipse fill=\"none\" stroke=\"#000000\" cx=\"246.0409\" cy=\"-25\" rx=\"34.394\" ry=\"18\"/>\n<text text-anchor=\"middle\" x=\"246.0409\" y=\"-21.3\" font-family=\"Times,serif\" font-size=\"14.00\" fill=\"#000000\">results</text>\n</g>\n<!-- model&#45;&gt;results -->\n<g id=\"edge2\" class=\"edge\">\n<title>model&#45;&gt;results</title>\n<path fill=\"none\" stroke=\"#000000\" d=\"M175.6321,-25C183.865,-25 192.7125,-25 201.2618,-25\"/>\n<polygon fill=\"#000000\" stroke=\"#000000\" points=\"201.4807,-28.5001 211.4807,-25 201.4806,-21.5001 201.4807,-28.5001\"/>\n</g>\n<!-- inputs -->\n<g id=\"node2\" class=\"node\">\n<title>inputs</title>\n<ellipse fill=\"none\" stroke=\"#000000\" cx=\"33.797\" cy=\"-25\" rx=\"33.5952\" ry=\"18\"/>\n<text text-anchor=\"middle\" x=\"33.797\" y=\"-21.3\" font-family=\"Times,serif\" font-size=\"14.00\" fill=\"#000000\">inputs</text>\n</g>\n<!-- inputs&#45;&gt;model -->\n<g id=\"edge1\" class=\"edge\">\n<title>inputs&#45;&gt;model</title>\n<path fill=\"none\" stroke=\"#000000\" d=\"M67.8542,-25C75.9278,-25 84.675,-25 93.1939,-25\"/>\n<polygon fill=\"#000000\" stroke=\"#000000\" points=\"93.4113,-28.5001 103.4113,-25 93.4112,-21.5001 93.4113,-28.5001\"/>\n</g>\n</g>\n</svg>\n"
          },
          "metadata": {
            "tags": []
          },
          "execution_count": 21
        }
      ]
    },
    {
      "cell_type": "code",
      "metadata": {
        "id": "22t5WRv-xENg"
      },
      "source": [
        ""
      ],
      "execution_count": null,
      "outputs": []
    },
    {
      "cell_type": "markdown",
      "metadata": {
        "id": "Rjd1LeoPVrx_"
      },
      "source": [
        "Om vi jämför med den initiala modellen för ett traditionellt datorprogram ser vi att den ser likadan ut, med *program* utbytt mot *model*. Det är en trevlig egenskap:\n",
        "- När väl modellen är tränad kan den användas som ett traditionellt program, utan att vara krångligare för den som anropar det.\n",
        "\n",
        "För att sammanfatta definitionen:"
      ]
    },
    {
      "cell_type": "markdown",
      "metadata": {
        "id": "nVxUS_BNVrx_"
      },
      "source": [
        "> Machine Learning: The training of programs developed by allowing a computer to learn from its experience, rather than through manually coding the individual steps."
      ]
    },
    {
      "cell_type": "markdown",
      "metadata": {
        "id": "ILCpdlBQVrx_"
      },
      "source": [
        "## Neurala nätverk\n",
        "För ett Dam-spelande program kan vi skapa oss en bild av en möjlig modell, med olika strategier programmerade och vikter som påverkar hur dessa strategier väljs och t.ex. hur olika delar av brädet söks av.\n",
        "\n",
        "Men, för bildigenkänning är det långt ifrån uppenbart hur en modell skulle kunna se ut.\n",
        "\n",
        "Vi skulle vilja ha en typ av funktion som är så flexibel att det skulle kunna lösa ett godtyckligt problem enbart genom att variera dess vikter. Och även om det kan låta för bra för att vara sant finns det faktiskt en sådan funktion genom *neurala nätverk*, som härstammar ifrån en modell av hur neuroner i hjärnan fungerar.\n",
        "\n",
        "![Neuroner](https://github.com/fastai/fastbook/raw/fb570779062177662fbfde0f5dbb1e9f08dabbee/images/chapter7_neuron.png)\n",
        "\n",
        "Neurala nätverk är självklart inte en magisk lösning på problem, men ett kraftfullt verktyg som vi kommer att studera närmare i studiecirkeln. Här nöjer vi oss att konstatera att neurala nätverk är en typ av Machine learning modell."
      ]
    },
    {
      "cell_type": "markdown",
      "metadata": {
        "id": "xOlve5QdVryB"
      },
      "source": [
        "## Begränsningar hos Machine learning\n",
        "\n",
        "Från ovanstående förståelse kan vi erhålla några fundamentala saker kring träning av en modell:\n",
        "\n",
        "- En modell kan inte skapas utan data.\n",
        "- En modell kan bara läras att agera på mönstrena som ses i den input data som används i träningen av den.\n",
        "- Det är inte tillräckligt att ha exempel på input data - vi behöver kategoriseringar av dena data också (i vårat hund&katt exempel så är inte bilder av hunder och katter tillräckligt - vi behöver en kategorisering av varje bild, som säger ifall bilden representerar en hund eller katt).\n",
        "\n",
        "Det här innebär att ett problem ofta är just på kategoriserad data, inte på data i allmänhet. Rådata finns ofta, men kategoriserad data kan vara en bristvara."
      ]
    },
    {
      "cell_type": "markdown",
      "metadata": {
        "id": "x_JGgYVHVryB"
      },
      "source": [
        "## Etiska problem\n",
        "En annan intressant aspekt med Machine learning och modellering är *feedback loops*, som är ett problem både med avseende på *korrekthet* och ur ett *etiskt* perspektiv.\n",
        "\n",
        "Boken nämner exempel på en *positive feedback loop*, där användandet av en model gör att felaktigt vinklat data förstärks, varpå modellen uppdateras att bli ännu mer partisk:\n",
        "\n",
        "- En model där antal arrestering per stadsdel över tid används för att förutsäga i vilka stadsdelar flest gripanden kommer att ske i framtiden.\n",
        "- Ett problem här är att antalet gripanden inte behöver vara ett mått på brottslig aktivitet, utan kan avspegla partiskhet baserat på t.ex. fördomar eller gamla sanningar.\n",
        "- Om polisen då använder denna model för att öka sin verksamhet i stadsdelar där det förväntas ske fler gripanden, kommer antalet gripanden öka än mer.\n",
        "- Denna data matas tillbaks till modellen som blir än mer partisk.\n",
        "\n",
        "Det här är ett intressant och viktig fråga, och boken som vi kommer att studera i studiecirkeln ägnar ett kapitel åt detta.\n"
      ]
    }
  ]
}