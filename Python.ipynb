{
 "cells": [
  {
   "cell_type": "markdown",
   "metadata": {},
   "source": [
    "# Intro\n",
    "\n",
    "Gå igenom vad vi kommer att ta upp.\n",
    "Presentation av studiecirkeln"
   ]
  },
  {
   "cell_type": "markdown",
   "metadata": {},
   "source": [
    "# Python\n"
   ]
  },
  {
   "cell_type": "markdown",
   "metadata": {},
   "source": [
    "## Lokal Installation\n",
    "\n",
    "``` sudo apt install python3 ```\n",
    "\n",
    "Om du inte får det här att funka kommer vi ha online mijöer som du kan använda under resten av vässningen.\n",
    "\n",
    "\n",
    "## Paket-installation\n",
    "\n",
    "### Enkla lösningen:\n",
    "\n",
    "```\n",
    "sudo apt install python3-pip\n",
    "pip install numpy\n",
    "```\n",
    "\n",
    "* Paket blir globalt tillgängliga\n",
    "\n",
    "### Mer avancerade \n",
    "\n",
    "(ana)conda\n",
    "```\n",
    "curl https://repo.anaconda.com/archive/Anaconda3-2020.02-Linux-x86_64.sh \n",
    " --output anaconda.sh\n",
    "```\n",
    "\n",
    "* Du skapa conda environments\n",
    "* Med olika Python version\n",
    "* Och olika libraries installerade\n",
    "\n",
    "Idag kör vi Pip\n",
    "\n"
   ]
  },
  {
   "cell_type": "code",
   "execution_count": 14,
   "metadata": {},
   "outputs": [
    {
     "data": {
      "text/plain": [
       "nan"
      ]
     },
     "execution_count": 14,
     "metadata": {},
     "output_type": "execute_result"
    }
   ],
   "source": [
    "# Dynamiskt typat\n",
    "a = 1\n",
    "a = \"hej\"\n",
    "\n",
    "# Signifikant whitespace. Indentering isf symboler\n",
    "def foo(a, b):\n",
    "    if a > b:\n",
    "        return a - b\n",
    "    else:\n",
    "        return a+b\n",
    "\n",
    "    \n",
    "# Rätt vanligt med funktionell stil på hjälpmetoder\n",
    "a = [1,2,3]\n",
    "len(a) #isf a.size()\n",
    "type(a) #Vad är \"a\" för typ?\n",
    "str(a[1])\n",
    "\n",
    "# Moduler är separata filer. Filens namn = modulens namn\n",
    "\n",
    "import numpy as np\n",
    "np.nan"
   ]
  },
  {
   "cell_type": "code",
   "execution_count": 6,
   "metadata": {},
   "outputs": [
    {
     "data": {
      "text/plain": [
       "10"
      ]
     },
     "execution_count": 6,
     "metadata": {},
     "output_type": "execute_result"
    }
   ],
   "source": [
    "# Keywords\n",
    "\n",
    "def keyword(a, b=10, c=5):\n",
    "    return a * b\n",
    "\n",
    "keyword(1, c=1)"
   ]
  },
  {
   "cell_type": "code",
   "execution_count": 19,
   "metadata": {},
   "outputs": [
    {
     "name": "stdout",
     "output_type": "stream",
     "text": [
      "1\n",
      "2\n",
      "3\n",
      "The value of a is foo\n",
      "The value of b is bar\n",
      "('a', 1, 2)\n",
      "The value of fish is shark\n"
     ]
    }
   ],
   "source": [
    "# *args, *kwargs\n",
    "\n",
    "def printlist(*args):\n",
    "    for x in args:\n",
    "        print(x)\n",
    "        \n",
    "printlist(1,2,3)\n",
    "\n",
    "\n",
    "def printkwargs(**kwargs):\n",
    "    for key, val in kwargs.items():\n",
    "        print(\"The value of {} is {}\".format(key, val))\n",
    "\n",
    "printkwargs(a = \"foo\", b = \"bar\")\n",
    "\n",
    "\n",
    "def ordering(pos_1, *args, kw_1=\"foo\", kw_2=\"bar\", **kwargs):\n",
    "    printlist((pos_1,) + args)\n",
    "    printkwargs(**kwargs)\n",
    "    \n",
    "ordering(\"a\", 1, 2, fish=\"shark\")"
   ]
  },
  {
   "cell_type": "code",
   "execution_count": 4,
   "metadata": {},
   "outputs": [
    {
     "name": "stdout",
     "output_type": "stream",
     "text": [
      "Hej Mejsla\n"
     ]
    }
   ],
   "source": [
    "# Klasser\n",
    "\n",
    "class Foo:\n",
    "    def __init__(self): \n",
    "        self.message = \"Hej Mejsla\"\n",
    "  \n",
    "    # a method for printing data members \n",
    "    def bar(self): \n",
    "        print(self.message) \n",
    "\n",
    "x = Foo()\n",
    "\n",
    "x.bar()"
   ]
  },
  {
   "cell_type": "code",
   "execution_count": 16,
   "metadata": {},
   "outputs": [
    {
     "data": {
      "text/plain": [
       "['Itm: 1', 'Itm: 2', 'Itm: 3', 'Itm: 4', 'Itm: 5', 'Itm: 6']"
      ]
     },
     "execution_count": 16,
     "metadata": {},
     "output_type": "execute_result"
    }
   ],
   "source": [
    "# For comprehensions. Source - allt som har en iterator\n",
    "\n",
    "l = [1,2,3,4,5,6]\n",
    "\n",
    "[\"Itm: \" + str(x) for x in l]\n"
   ]
  },
  {
   "cell_type": "code",
   "execution_count": 17,
   "metadata": {},
   "outputs": [
    {
     "data": {
      "text/plain": [
       "{'2': 4, '4': 16, '6': 36}"
      ]
     },
     "execution_count": 17,
     "metadata": {},
     "output_type": "execute_result"
    }
   ],
   "source": [
    "# Även skapa sets och dictionaries (map). Kan ha if satser. Kan nästlas\n",
    "\n",
    "{ str(x): x*x for x in l if x % 2 == 0 }"
   ]
  },
  {
   "cell_type": "code",
   "execution_count": 11,
   "metadata": {},
   "outputs": [
    {
     "name": "stdout",
     "output_type": "stream",
     "text": [
      "<map object at 0x7fa9000aaa30>\n"
     ]
    }
   ],
   "source": [
    "# Lambdas\n",
    "func = lambda x: x * 3\n",
    "li = [1,2,3]\n",
    "res = map(func, li)\n",
    "print(res)"
   ]
  },
  {
   "cell_type": "code",
   "execution_count": 12,
   "metadata": {},
   "outputs": [
    {
     "data": {
      "text/plain": [
       "[3, 6, 9]"
      ]
     },
     "execution_count": 12,
     "metadata": {},
     "output_type": "execute_result"
    }
   ],
   "source": [
    "# Lazyness\n",
    "list(res)"
   ]
  }
 ],
 "metadata": {
  "kernelspec": {
   "display_name": "Python 3",
   "language": "python",
   "name": "python3"
  },
  "language_info": {
   "codemirror_mode": {
    "name": "ipython",
    "version": 3
   },
   "file_extension": ".py",
   "mimetype": "text/x-python",
   "name": "python",
   "nbconvert_exporter": "python",
   "pygments_lexer": "ipython3",
   "version": "3.8.6"
  }
 },
 "nbformat": 4,
 "nbformat_minor": 2
}
