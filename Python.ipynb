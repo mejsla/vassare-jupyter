{
 "cells": [
  {
   "cell_type": "markdown",
   "metadata": {},
   "source": [
    "# Intro\n",
    "\n",
    "Gå igenom vad vi kommer att ta upp.\n",
    "Presentation av studiecirkeln"
   ]
  },
  {
   "cell_type": "markdown",
   "metadata": {},
   "source": [
    "# Python\n"
   ]
  },
  {
   "cell_type": "markdown",
   "metadata": {},
   "source": [
    "## Installation\n",
    "\n",
    "sudo apt install python3\n",
    "\n",
    "## Paket-installation\n",
    "\n",
    "### Enkla lösningen:\n",
    "\n",
    "sudo apt install python3-pip\n",
    "pip install numpy\n",
    "\n",
    "* Paket blir globalt tillgängliga\n",
    "\n",
    "### Mer avancerade \n",
    "\n",
    "(ana)conda\n",
    "```\n",
    "curl https://repo.anaconda.com/archive/Anaconda3-2020.02-Linux-x86_64.sh \n",
    " --output anaconda.sh\n",
    "```\n",
    "\n",
    "* Du skapa conda environments\n",
    "* Med olika Python version\n",
    "* Och olika libraries installerade\n",
    "\n",
    "Idag kör vi Pip\n",
    "\n"
   ]
  },
  {
   "cell_type": "code",
   "execution_count": 4,
   "metadata": {},
   "outputs": [
    {
     "data": {
      "text/plain": [
       "nan"
      ]
     },
     "execution_count": 4,
     "metadata": {},
     "output_type": "execute_result"
    }
   ],
   "source": [
    "# Dynamiskt typat\n",
    "a = 1\n",
    "a = \"hej\"\n",
    "\n",
    "# Signifikant whitespace. Indentering isf symboler\n",
    "def foo(a, b):\n",
    "    if a > b:\n",
    "        return a - b\n",
    "    else:\n",
    "        return a+b\n",
    "\n",
    "    \n",
    "# Rätt vanligt med funktionell stil på hjälpmetoder\n",
    "a = [1,2,3]\n",
    "len(a) #isf a.size()\n",
    "\n",
    "# Moduler är separata filer. Filens namn = modulens namn\n",
    "\n",
    "import numpy as np\n",
    "np.nan"
   ]
  },
  {
   "cell_type": "code",
   "execution_count": null,
   "metadata": {},
   "outputs": [],
   "source": [
    "# Klasser\n",
    "\n",
    "class Foo\n",
    "\n"
   ]
  },
  {
   "cell_type": "code",
   "execution_count": 16,
   "metadata": {},
   "outputs": [
    {
     "data": {
      "text/plain": [
       "['Itm: 1', 'Itm: 2', 'Itm: 3', 'Itm: 4', 'Itm: 5', 'Itm: 6']"
      ]
     },
     "execution_count": 16,
     "metadata": {},
     "output_type": "execute_result"
    }
   ],
   "source": [
    "# For comprehension\n",
    "\n",
    "l = [1,2,3,4,5, 6]\n",
    "\n",
    "[\"Itm: \" + str(x) for x in l]"
   ]
  },
  {
   "cell_type": "code",
   "execution_count": 17,
   "metadata": {},
   "outputs": [
    {
     "data": {
      "text/plain": [
       "{'2': 4, '4': 16, '6': 36}"
      ]
     },
     "execution_count": 17,
     "metadata": {},
     "output_type": "execute_result"
    }
   ],
   "source": [
    "# Även sets och dictionaries (map). Kan ha if satser. Kan nästlas\n",
    "\n",
    "{ str(x): x*x for x in l if x % 2 == 0 }"
   ]
  }
 ],
 "metadata": {
  "kernelspec": {
   "display_name": "Python 3",
   "language": "python",
   "name": "python3"
  },
  "language_info": {
   "codemirror_mode": {
    "name": "ipython",
    "version": 3
   },
   "file_extension": ".py",
   "mimetype": "text/x-python",
   "name": "python",
   "nbconvert_exporter": "python",
   "pygments_lexer": "ipython3",
   "version": "3.8.6"
  }
 },
 "nbformat": 4,
 "nbformat_minor": 2
}
