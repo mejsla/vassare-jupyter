{
 "cells": [
  {
   "cell_type": "markdown",
   "id": "piano-moses",
   "metadata": {},
   "source": [
    "# Hårvara för ML\n",
    "\n",
    "![Lara](bilder/lara.jpeg)\n",
    "\n",
    "\n",
    "## Bakgrund\n",
    "\n",
    "* Grafik och fysik simulationer i spel, machine learning... och cryptocurrencies\n",
    "* Polygoner, matriser och vektorer. Linjär algebra.\n",
    "\n",
    "\n",
    "## Sätta upp en ML server hemma\n",
    "\n",
    "* Linux rekommenderas, inte MacOS eller Windows\n",
    "* Kräver att man är bekväm med drivrutiner\n",
    "* Undvik om du inte är road av sysadmin arbete och yak-shaving, i alla fall för kursen\n",
    "* Men om du har kunskapen och kör mycket ML, kan vara värt det prismässigt\n",
    "\n",
    "\n",
    "\n",
    "### CUDA\n",
    "\n",
    "* nVidia\n",
    "* Compute Unified Device Architecture. Nu eget namn\n",
    "* Många cores gör parallella integer och floating point operationer. Tilldelas från CPU\n",
    "* GeForce 3080 - 8704 CUDA cores\n",
    "* Över 100x snabbare än ren CPU. För vissa uppgifter\n",
    "* CUDA lämplig för täta NN\n",
    "* Men - minne kan bli flaskhals, trots unified memory\n",
    "\n"
   ]
  },
  {
   "cell_type": "markdown",
   "id": "guilty-success",
   "metadata": {},
   "source": [
    "### TPU\n",
    "\n",
    "* Google\n",
    "* 700 MHz, 40w (jmfr 3GHz, 340w)\n",
    "* Till och med i mobiler. För att använda modeller, inte träna\n",
    "* Quantization för minne och prestanda\n",
    "* Lämplig för CNN (bildbehandling), stora batchar. Hela batchar med indata laddas i minne\n",
    "* Printa ut bok: Bokstav - ord/meningar - hela sidor/kapitel\n",
    "* 272 Tensor Cores i GeForce 3080"
   ]
  },
  {
   "cell_type": "markdown",
   "id": "typical-sampling",
   "metadata": {},
   "source": [
    "## Specialisering\n",
    "\n",
    "* Conways law\n",
    "* ASIC\n",
    "* Processor specialisering - (m1)"
   ]
  },
  {
   "cell_type": "markdown",
   "id": "coupled-attendance",
   "metadata": {},
   "source": [
    "## Cloud\n",
    "\n",
    "* Google Cloud (rekommenderas ej för kursen. \"Contact your service representative!\")\n",
    "* Azure (rekommenderas ej för kursen)\n",
    "* DataCrunch.io \n",
    "* AWS\n",
    "* Google Colab - kommer exempel senare.\n"
   ]
  }
 ],
 "metadata": {
  "kernelspec": {
   "display_name": "Python 3",
   "language": "python",
   "name": "python3"
  },
  "language_info": {
   "codemirror_mode": {
    "name": "ipython",
    "version": 3
   },
   "file_extension": ".py",
   "mimetype": "text/x-python",
   "name": "python",
   "nbconvert_exporter": "python",
   "pygments_lexer": "ipython3",
   "version": "3.8.6"
  }
 },
 "nbformat": 4,
 "nbformat_minor": 5
}
