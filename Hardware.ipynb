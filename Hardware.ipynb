{
 "cells": [
  {
   "cell_type": "markdown",
   "id": "piano-moses",
   "metadata": {},
   "source": [
    "# CUDA\n",
    "\n",
    "* nVidia\n",
    "* Parallella floating point operationer\n",
    "* GeForce 3080 - 8704 CUDA cores\n",
    "* Över 100x snabbare än ren CPU\n",
    "* FP: Grafik, fysik simulationer, machine learning... och cryptocurrencies\n",
    "* CUDA lämplig för dense NN\n",
    "\n",
    "## Sätta upp en lokal ML server\n",
    "\n",
    "* Linux rekommenderas, inte MacOS eller Windows\n",
    "* Kräver att man är bekväm med drivrutiner\n",
    "* Om du inte är road av sysadmin arbete - undvik\n",
    "* Men om du kör mycket ML, kan vara värt det prismässigt\n"
   ]
  },
  {
   "cell_type": "markdown",
   "id": "guilty-success",
   "metadata": {},
   "source": [
    "# TPU\n",
    "\n",
    "* Google\n",
    "* 700 MHz, 40w (jmfr 3GHz, 340w)\n",
    "* CNN (bildbehandling)\n",
    "* Till och med i mobiler"
   ]
  },
  {
   "cell_type": "markdown",
   "id": "typical-sampling",
   "metadata": {},
   "source": [
    "# Specialisering\n",
    "\n",
    "* Conways law\n",
    "* Processor specialisering -(m1)"
   ]
  },
  {
   "cell_type": "markdown",
   "id": "coupled-attendance",
   "metadata": {},
   "source": [
    "# Cloud\n",
    "\n",
    "* Google Cloud (rekommenderas ej)\n",
    "* Azure (rekommenderas ej)\n",
    "* DataCrunch.io"
   ]
  }
 ],
 "metadata": {
  "kernelspec": {
   "display_name": "Python 3",
   "language": "python",
   "name": "python3"
  },
  "language_info": {
   "codemirror_mode": {
    "name": "ipython",
    "version": 3
   },
   "file_extension": ".py",
   "mimetype": "text/x-python",
   "name": "python",
   "nbconvert_exporter": "python",
   "pygments_lexer": "ipython3",
   "version": "3.8.6"
  }
 },
 "nbformat": 4,
 "nbformat_minor": 5
}
