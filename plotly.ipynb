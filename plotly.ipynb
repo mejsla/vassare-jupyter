{
 "cells": [
  {
   "cell_type": "markdown",
   "metadata": {
    "id": "GW5bs-NVVrxy"
   },
   "source": [
    "# Plotly"
   ]
  },
  {
   "cell_type": "markdown",
   "metadata": {
    "id": "Dan0jmN3Vrxy"
   },
   "source": [
    "[Plotly for Python](https://plotly.com/python/) är ett open source bibliotek för interaktiva diagram medd över 40 olika diagram-typer över statistiska, finansiella, geografiska, vetenskapliga och tredimensionella användningsområden.\n",
    "\n",
    "Det är implementerat ovanpå [plotly.js](https://plotly.com/javascript/), ett diagram-bibliotek för JavaScript (men för det mesta behöver man inte känna till underliggande JS-implementationen).\n",
    "\n",
    "Diagram skapade med plotly kan:\n",
    "- Visas i Jupyter Notebooks.\n",
    "- Sparas till självständiga HTML eller SVG filer.\n",
    "- Exporterats till PDF och andra format.b\n",
    "- Genereras av webapplikationer skrivna i ramverket [Dash](https://plotly.com/dash/).\n",
    "\n",
    "Vi startar med att installera biblioteket och installera en del av den (vi installerar även numpy för användning i exempel):"
   ]
  },
  {
   "cell_type": "code",
   "execution_count": null,
   "metadata": {
    "id": "MaL3Mtv3Vrxw",
    "scrolled": true
   },
   "outputs": [],
   "source": [
    "%pip install -Uq plotly numpy\n",
    "\n",
    "import plotly.graph_objects as go"
   ]
  },
  {
   "cell_type": "markdown",
   "metadata": {},
   "source": [
    "Vi börjar med ett exempel på att skapa en bar chart:"
   ]
  },
  {
   "cell_type": "code",
   "execution_count": null,
   "metadata": {},
   "outputs": [],
   "source": [
    "import plotly.graph_objects as go\n",
    "\n",
    "fig = go.Figure(data=go.Bar(y=[2, 3, 1]))\n",
    "fig.show()"
   ]
  },
  {
   "cell_type": "markdown",
   "metadata": {},
   "source": [
    "## Figurer\n",
    "plotly är baserat på ett koncept av figurer (*figures*), som är den datastruktur som renderas till olika typer av diagram och visualiseringar.\n",
    "\n",
    "Figurer kan representeras i antingen som dicts or eller som instanser av [plotly.graph_objects.Figure](https://plotly.com/python-api-reference/generated/plotly.graph_objects.Figure.html) klassen och serialiseras till JSON innan de skickas till Plotly.js, det javascript-bibliotek som plotly för python är implementerat ovanpå.\n",
    "\n",
    "För förståelse och kunskapsöverföring mellan Plotly.js och Plotly för Python kan man inspektera det genererade JSON-objektet:"
   ]
  },
  {
   "cell_type": "code",
   "execution_count": null,
   "metadata": {},
   "outputs": [],
   "source": [
    "import plotly.express as px\n",
    "\n",
    "fig = px.line(x=[\"a\",\"b\",\"c\"], y=[1,3,2], title=\"En figur\")\n",
    "print(fig)\n",
    "fig.show()"
   ]
  },
  {
   "cell_type": "markdown",
   "metadata": {},
   "source": [
    "För mer information [se dokumentationen]."
   ]
  },
  {
   "cell_type": "markdown",
   "metadata": {},
   "source": [
    "## Figurer från dicts\n",
    "Figurer kan representeras av dictionaries och visualiseras med hjälp av `plotly.io` paketet:"
   ]
  },
  {
   "cell_type": "code",
   "execution_count": null,
   "metadata": {},
   "outputs": [],
   "source": [
    "fig = dict({\n",
    "    \"data\": [{\"type\": \"bar\",\n",
    "              \"x\": [1, 2, 3],\n",
    "              \"y\": [1, 3, 2]}],\n",
    "    \"layout\": {\"title\": {\"text\": \"A Figure Specified By Python Dictionary\"}}\n",
    "})\n",
    "\n",
    "# To display the figure defined by this dict, use the low-level plotly.io.show function\n",
    "import plotly.io as pio\n",
    "\n",
    "pio.show(fig)"
   ]
  },
  {
   "cell_type": "markdown",
   "metadata": {},
   "source": [
    "## Graph Objects\n",
    "Utöver otypade dictionaries kan klasser som kallas \"graph objects\", inom paktet [plotly.graph_objects](https://plotly.com/python-api-reference/plotly.graph_objects.html), användas för att representera figurer.\n",
    "\n",
    "Genom att använda dessa klasser istället för den underliggande dict serialiseringen så erhålls:\n",
    "\n",
    "- Validering av data - ifall misstag i egenskapsnamn och liknande görs kastas ett exception, istället för att något ofullständigt renderas eller javascript-fel erhålls.\n",
    "- Dokumentation via python docstrings erhålls och hjälper till vid utveckling (beroende på editor/IDE), och referensdokumentation kan lättare användas då det mappar mot koden i dessa graph objects.\n",
    "- Egenskaper kan anges både med dictionary-style, `fig[\"layout\"]` och med property-style, `fig.layout`.\n",
    "- Det finns utility stöd för underscores, så `go.Figure(layout_title_text=\"The Title\")` kan användas istället för `dict(layout=dict(title=dict(text=\"The Title\"))))`.\n",
    "- Det finns högnivå utility funktioner för att uppdatera och rendera figurer.\n",
    "\n",
    "Nedan finns motsvarande exempel som ovan, med graph objects istället för dictionaries:"
   ]
  },
  {
   "cell_type": "code",
   "execution_count": null,
   "metadata": {},
   "outputs": [],
   "source": [
    "import plotly.graph_objects as go\n",
    "\n",
    "fig = go.Figure(\n",
    "    data=[go.Bar(x=[1, 2, 3], y=[1, 3, 2])],\n",
    "    layout=go.Layout(\n",
    "        title=go.layout.Title(text=\"A Figure Specified By A Graph Object\")\n",
    "    )\n",
    ")\n",
    "\n",
    "fig.show()\n"
   ]
  },
  {
   "cell_type": "markdown",
   "metadata": {},
   "source": [
    "## Plotly Express\n",
    "[Plotly Express](https://plotly.com/python/plotly-express/) är ett högnivå API som skapar fullt populerade instanser av `Figure`-klassen via enskilda funktionsanrop:"
   ]
  },
  {
   "cell_type": "code",
   "execution_count": null,
   "metadata": {},
   "outputs": [],
   "source": [
    "import plotly.express as px\n",
    "\n",
    "df = px.data.iris()\n",
    "fig = px.scatter(df, x=\"sepal_width\", y=\"sepal_length\", color=\"species\", title=\"A Plotly Express Figure\")\n",
    "\n",
    "# Vi kan skriva ut figuren för att se att det är en vanlig Figur,\n",
    "# och se vilken funktionalitet vi vinner genom att använda Plotly Express:\n",
    "print(fig)\n",
    "\n",
    "fig.show()\n"
   ]
  },
  {
   "cell_type": "code",
   "execution_count": null,
   "metadata": {},
   "outputs": [],
   "source": [
    "## Scatter plots\n",
    "Exempel på en scatter plot:"
   ]
  },
  {
   "cell_type": "code",
   "execution_count": null,
   "metadata": {},
   "outputs": [],
   "source": [
    "import plotly.express as px\n",
    "fig = px.scatter(x=[0, 1, 2, 3, 4], y=[0, 1, 4, 9, 16])\n",
    "fig.show()"
   ]
  },
  {
   "cell_type": "markdown",
   "metadata": {},
   "source": [
    "## Line charts\n",
    "Exempel på line charts (användandes av data från [Gapminder](https://www.gapminder.org/) - följ länk och titta) som distribueras med Plotly Express:"
   ]
  },
  {
   "cell_type": "code",
   "execution_count": null,
   "metadata": {
    "scrolled": true
   },
   "outputs": [],
   "source": [
    "import plotly.express as px\n",
    "\n",
    "bfig = px.line(df, x=\"year\", y=\"lifeExp\", color='country')\n",
    "fig.show()"
   ]
  },
  {
   "cell_type": "markdown",
   "metadata": {},
   "source": [
    "För att förstå hur det fungerar kan vi skriva ut resultatet av `gapminder().query(\"continent=='Oceania'\")`:"
   ]
  },
  {
   "cell_type": "code",
   "execution_count": null,
   "metadata": {},
   "outputs": [],
   "source": [
    "df = px.data.gapminder().query(\"continent=='Oceania'\")\n",
    "print(df)\n",
    "# Render med:\n",
    "# px.line(df, x=\"year\", y=\"lifeExp\", color='country')"
   ]
  },
  {
   "cell_type": "markdown",
   "metadata": {},
   "source": [
    "Vi kan nu t.ex. skapa en egen line chart från data på https://www.ssab.se/ssab-koncern/investerare/financial-information/finansiell-data-per-ar-och-kvartal:"
   ]
  },
  {
   "cell_type": "code",
   "execution_count": null,
   "metadata": {},
   "outputs": [],
   "source": [
    "sales = {\n",
    "    \"year\": [2014, 2015, 2016, 2017, 2018, 2019],\n",
    "    \"sales\": [47752, 56864, 55354, 66059, 74941, 76485]\n",
    "}\n",
    "\n",
    "# Även detta format fungerar:\n",
    "sales = [\n",
    "    {\"year\": 2014, \"sales\": 47752},\n",
    "    {\"year\": 2015, \"sales\": 56864},\n",
    "    {\"year\": 2016, \"sales\": 55354},\n",
    "    {\"year\": 2017, \"sales\": 66059},\n",
    "    {\"year\": 2018, \"sales\": 74941},\n",
    "    {\"year\": 2019, \"sales\": 76485}\n",
    "]\n",
    "\n",
    "px.line(sales, x=\"year\", y=\"sales\")"
   ]
  },
  {
   "cell_type": "markdown",
   "metadata": {},
   "source": [
    "Exempel som visar olika typer av line plots:"
   ]
  },
  {
   "cell_type": "code",
   "execution_count": null,
   "metadata": {},
   "outputs": [],
   "source": [
    "import plotly.graph_objects as go\n",
    "\n",
    "# Create random data with numpy\n",
    "import numpy as np\n",
    "np.random.seed(1)\n",
    "\n",
    "N = 100\n",
    "random_x = np.linspace(0, 1, N)\n",
    "random_y0 = np.random.randn(N) + 5\n",
    "random_y1 = np.random.randn(N)\n",
    "random_y2 = np.random.randn(N) - 5\n",
    "\n",
    "# Create traces\n",
    "fig = go.Figure()\n",
    "fig.add_trace(go.Scatter(x=random_x, y=random_y0,\n",
    "                    mode='lines',\n",
    "                    name='lines'))\n",
    "fig.add_trace(go.Scatter(x=random_x, y=random_y1,\n",
    "                    mode='lines+markers',\n",
    "                    name='lines+markers'))\n",
    "fig.add_trace(go.Scatter(x=random_x, y=random_y2,\n",
    "                    mode='markers', name='markers'))\n",
    "\n",
    "fig.show()\n"
   ]
  },
  {
   "cell_type": "markdown",
   "metadata": {},
   "source": [
    "# Bar charts\n",
    "Nedanstående exempel visar befolkningsmängd i Kanada över år:"
   ]
  },
  {
   "cell_type": "code",
   "execution_count": null,
   "metadata": {
    "scrolled": true
   },
   "outputs": [],
   "source": [
    "data_canada = px.data.gapminder().query(\"country == 'Canada'\")\n",
    "fig = px.bar(data_canada, x='year', y='pop')\n",
    "fig.show()"
   ]
  },
  {
   "cell_type": "markdown",
   "metadata": {},
   "source": [
    "# Pie charts\n",
    "Exempel på en pie chart med andel av europas totala befolkning per land (observera hoover på diagram):"
   ]
  },
  {
   "cell_type": "code",
   "execution_count": null,
   "metadata": {},
   "outputs": [],
   "source": [
    "df = px.data.gapminder().query(\"year == 2007\").query(\"continent == 'Europe'\")\n",
    "df.loc[df['pop'] < 2.e6, 'country'] = 'Other countries' # Represent only large countries\n",
    "fig = px.pie(df, values='pop', names='country', title='Population of European continent')\n",
    "fig.show()"
   ]
  },
  {
   "cell_type": "markdown",
   "metadata": {},
   "source": [
    "# Bubble charts\n",
    "En \"bubble chart\" är en scatter plot där en tredje dimension (utöver X och Y position i diagrammet) visas genom bubblors storlek.\n",
    "\n",
    "Nedan visas förväntad livslängd per land, där\n",
    "- x axeln visar `gdpPercap`, BNP per capita\n",
    "- y axeln visar `lifeExp`, medellivslängd\n",
    "- Storleken på bubblan är relativ till landets befolkningsmängd, `pop`."
   ]
  },
  {
   "cell_type": "code",
   "execution_count": null,
   "metadata": {},
   "outputs": [],
   "source": [
    "import plotly.express as px\n",
    "df = px.data.gapminder()\n",
    "\n",
    "fig = px.scatter(df.query(\"year==2007\"),\n",
    "                 x=\"gdpPercap\",\n",
    "                 y=\"lifeExp\",\n",
    "                 size=\"pop\",\n",
    "                 color=\"continent\",\n",
    "                 hover_name=\"country\",\n",
    "                 log_x=True,\n",
    "                 size_max=60)\n",
    "fig.show()"
   ]
  },
  {
   "cell_type": "markdown",
   "metadata": {},
   "source": [
    "## Exempel och dokumentation för alla diagram typer och all funktionalitet i Plotly\n",
    "https://plotly.com/python/\n",
    "\n",
    "Se animationer, 3D, integrationer med kartor, sliders och mera."
   ]
  }
 ],
 "metadata": {
  "colab": {
   "name": "01_intro.ipynb",
   "provenance": []
  },
  "jupytext": {
   "split_at_heading": true
  },
  "kernelspec": {
   "display_name": "Python 3",
   "language": "python",
   "name": "python3"
  },
  "language_info": {
   "codemirror_mode": {
    "name": "ipython",
    "version": 3
   },
   "file_extension": ".py",
   "mimetype": "text/x-python",
   "name": "python",
   "nbconvert_exporter": "python",
   "pygments_lexer": "ipython3",
   "version": "3.9.1"
  }
 },
 "nbformat": 4,
 "nbformat_minor": 1
}
